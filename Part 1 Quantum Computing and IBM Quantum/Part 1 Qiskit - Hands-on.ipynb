{
 "cells": [
  {
   "cell_type": "code",
   "execution_count": 2,
   "id": "6591a85c-d9fd-4c61-9359-d188c678c224",
   "metadata": {},
   "outputs": [
    {
     "name": "stderr",
     "output_type": "stream",
     "text": [
      "ibmqfactory.load_account:WARNING:2022-02-20 10:29:15,719: Credentials are already in use. The existing account in the session will be replaced.\n"
     ]
    }
   ],
   "source": [
    "import numpy as np\n",
    "\n",
    "# Importing standard Qiskit libraries\n",
    "from qiskit import QuantumCircuit, transpile, Aer, IBMQ\n",
    "from qiskit.tools.jupyter import *\n",
    "from qiskit.visualization import *\n",
    "from ibm_quantum_widgets import *\n",
    "from qiskit.providers.aer import QasmSimulator\n",
    "\n",
    "# Additional libraries\n",
    "from qiskit import QuantumRegister, ClassicalRegister\n",
    "from qiskit.providers.ibmq import least_busy\n",
    "from qiskit.tools import job_monitor\n",
    "from qiskit import execute\n",
    "\n",
    "# Loading your IBM Quantum account(s)\n",
    "provider = IBMQ.load_account()"
   ]
  },
  {
   "cell_type": "markdown",
   "id": "88518767-142c-47ec-9344-8226bae7a4b9",
   "metadata": {},
   "source": [
    "# Run Circuit on Simulator"
   ]
  },
  {
   "cell_type": "code",
   "execution_count": 3,
   "id": "3ad6af4c-95f0-4473-84df-5ffc02ae4c05",
   "metadata": {},
   "outputs": [
    {
     "name": "stdout",
     "output_type": "stream",
     "text": [
      "\n",
      "Total count for 00 and 11 are: {'00': 490, '11': 510}\n"
     ]
    },
    {
     "data": {
      "image/png": "[encoded data removed]",
      "text/plain": [
       "<Figure size 327.252x204.68 with 1 Axes>"
      ]
     },
     "execution_count": 3,
     "metadata": {},
     "output_type": "execute_result"
    }
   ],
   "source": [
    "#code taken from https://qiskit.org/documentation/intro_tutorial1.html\n",
    "\n",
    "\n",
    "# Use Aer's qasm_simulator\n",
    "simulator = QasmSimulator()\n",
    "\n",
    "# Create a Quantum Circuit acting on the q register\n",
    "circuit = QuantumCircuit(2, 2)\n",
    "\n",
    "# Add a H gate on qubit 0\n",
    "circuit.h(0)\n",
    "\n",
    "# Add a CX (CNOT) gate on control qubit 0 and target qubit 1\n",
    "circuit.cx(0, 1)\n",
    "\n",
    "# Map the quantum measurement to the classical bits\n",
    "circuit.measure([0,1], [0,1])\n",
    "\n",
    "# compile the circuit down to low-level QASM instructions\n",
    "# supported by the backend (not needed for simple circuits)\n",
    "compiled_circuit = transpile(circuit, simulator)\n",
    "\n",
    "# Execute the circuit on the qasm simulator\n",
    "job = simulator.run(compiled_circuit, shots=1000)\n",
    "\n",
    "# Grab results from the job\n",
    "result = job.result()\n",
    "\n",
    "# Returns counts\n",
    "counts = result.get_counts(compiled_circuit)\n",
    "print(\"\\nTotal count for 00 and 11 are:\",counts)\n",
    "\n",
    "# Draw the circuit\n",
    "circuit.draw()"
   ]
  },
  {
   "cell_type": "markdown",
   "id": "5b9a5be4-d6fc-4b2e-a954-ac123c8f3d14",
   "metadata": {},
   "source": [
    "# Run Circuit on Real Device"
   ]
  },
  {
   "cell_type": "code",
   "execution_count": 4,
   "id": "495c6067-76ae-4611-97c2-a7f96b85a351",
   "metadata": {},
   "outputs": [
    {
     "data": {
      "text/plain": [
       "[<AccountProvider for IBMQ(hub='ibm-q', group='open', project='main')>,\n",
       " <AccountProvider for IBMQ(hub='ibm-q-internal', group='deployed', project='default')>]"
      ]
     },
     "execution_count": 4,
     "metadata": {},
     "output_type": "execute_result"
    }
   ],
   "source": [
    "# See what providers are available to you\n",
    "IBMQ.providers()"
   ]
  },
  {
   "cell_type": "code",
   "execution_count": 25,
   "id": "55492fb1-6802-45f4-80d1-ae7cc7d6dffb",
   "metadata": {},
   "outputs": [
    {
     "name": "stdout",
     "output_type": "stream",
     "text": [
      "ibmq_qasm_simulator\n",
      "ibmq_armonk\n",
      "ibmq_montreal\n",
      "ibmq_toronto\n",
      "ibmq_santiago\n",
      "ibmq_bogota\n",
      "ibmq_casablanca\n",
      "ibmq_mumbai\n",
      "ibmq_lima\n",
      "ibmq_belem\n",
      "ibmq_quito\n",
      "ibmq_guadalupe\n",
      "ibmq_brooklyn\n",
      "ibmq_jakarta\n",
      "ibmq_manila\n",
      "ibm_hanoi\n",
      "ibm_lagos\n",
      "ibm_cairo\n",
      "ibm_auckland\n",
      "ibm_perth\n",
      "ibm_washington\n"
     ]
    }
   ],
   "source": [
    "# Get your provider and see which backends are avilable to you\n",
    "\n",
    "provider = IBMQ.get_provider('ibm-q-internal') # comment this if you don't have access to internal systems\n",
    "#provider = IBMQ.get_provider('ibm-q') # publically accessible provider, open-access\n",
    "\n",
    "for backend in provider.backends():\n",
    "    print(backend)"
   ]
  },
  {
   "cell_type": "code",
   "execution_count": 6,
   "id": "3160c273-9816-404e-838a-f34dee82e5bc",
   "metadata": {},
   "outputs": [
    {
     "name": "stdout",
     "output_type": "stream",
     "text": [
      "ibmq_montreal\n",
      "ibmq_toronto\n",
      "ibmq_santiago\n",
      "ibmq_bogota\n",
      "ibmq_casablanca\n",
      "ibmq_mumbai\n",
      "ibmq_lima\n",
      "ibmq_belem\n",
      "ibmq_quito\n",
      "ibmq_guadalupe\n",
      "ibmq_brooklyn\n",
      "ibmq_jakarta\n",
      "ibmq_manila\n",
      "ibm_hanoi\n",
      "ibm_lagos\n",
      "ibm_cairo\n",
      "ibm_auckland\n",
      "ibm_perth\n",
      "ibm_washington\n"
     ]
    }
   ],
   "source": [
    "# Find which real devices are eligible to run your circuit\n",
    "\n",
    "eligible_devices = provider.backends(filters=lambda x:x.configuration().n_qubits>2 and not x.configuration().simulator)\n",
    "\n",
    "for backend in eligible_devices:\n",
    "    print(backend)"
   ]
  },
  {
   "cell_type": "code",
   "execution_count": 7,
   "id": "73df070e-bd4a-4abf-97bf-2c7606206f37",
   "metadata": {},
   "outputs": [
    {
     "name": "stdout",
     "output_type": "stream",
     "text": [
      "ibmq_montreal\n"
     ]
    }
   ],
   "source": [
    "# Select the least busy backend\n",
    "\n",
    "chosen_backend = least_busy(eligible_devices)\n",
    "print(chosen_backend.name())"
   ]
  },
  {
   "cell_type": "code",
   "execution_count": 8,
   "id": "63fb419d-6363-4970-b558-14ccc0fe7bc6",
   "metadata": {},
   "outputs": [
    {
     "name": "stdout",
     "output_type": "stream",
     "text": [
      "Job Status: job has successfully run\n"
     ]
    }
   ],
   "source": [
    "# Run and monitor the job\n",
    "\n",
    "compiled_circuit = transpile(circuit, chosen_backend)\n",
    "job = chosen_backend.run(compiled_circuit, shots = 1000)\n",
    "job_monitor(job)"
   ]
  },
  {
   "cell_type": "code",
   "execution_count": 17,
   "id": "70750705-3b09-4539-9a3d-e6dbdec85a15",
   "metadata": {},
   "outputs": [
    {
     "name": "stdout",
     "output_type": "stream",
     "text": [
      "Your job ID is:\n",
      "62121815ffea1361271bd853\n",
      "\n",
      "The counts from the real device are:\n",
      "{'00': 476, '01': 15, '10': 18, '11': 491}\n",
      "\n",
      "The counts from the simulator are:\n",
      "{'00': 490, '11': 510}\n"
     ]
    }
   ],
   "source": [
    "# Check the results\n",
    "\n",
    "job_id = job.job_id()\n",
    "retrieved_job = chosen_backend.retrieve_job(job_id)\n",
    "result = retrieved_job.result()\n",
    "counts_real = result.get_counts()\n",
    "\n",
    "# If currently unable to run, can use the following result from real devices\n",
    "\n",
    "# counts_real = {'00': 476, '01': 15, '10': 18, '11': 491} # example result from a real quantum computer\n",
    "\n",
    "# Print both real and sim results\n",
    "print(\"Your job ID is:\")\n",
    "print(job_id)\n",
    "print()\n",
    "print(\"The counts from the real device are:\")\n",
    "print(counts_real)\n",
    "print()\n",
    "print(\"The counts from the simulator are:\")\n",
    "print(counts)"
   ]
  },
  {
   "cell_type": "code",
   "execution_count": 18,
   "id": "3baab08f-1323-4c6e-90e2-2a4faf5c22f6",
   "metadata": {},
   "outputs": [
    {
     "data": {
      "image/png": "[encoded data removed]",
      "text/plain": [
       "<Figure size 504x360 with 1 Axes>"
      ]
     },
     "execution_count": 18,
     "metadata": {},
     "output_type": "execute_result"
    }
   ],
   "source": [
    "# Plot the results\n",
    "\n",
    "title = 'Real vs. Simulated'\n",
    "legend = ['Real Counts', 'Sim Counts']\n",
    "\n",
    "plot_histogram([counts_real, counts], legend = legend, title = title, color = ['teal', 'purple'], bar_labels = False)"
   ]
  },
  {
   "cell_type": "markdown",
   "id": "0fa782eb-134f-472f-afef-98a281b9312f",
   "metadata": {},
   "source": [
    "# Hands-On Exercises\n",
    "\n",
    "Build a circuit that results in the state or logic table provided. You can use the composer or program the circuits here."
   ]
  },
  {
   "cell_type": "markdown",
   "id": "d1d33beb-b3dc-42cc-8ea6-8db311618035",
   "metadata": {},
   "source": [
    "![](NOT_gate.png)"
   ]
  },
  {
   "cell_type": "code",
   "execution_count": 22,
   "id": "06e597dc-8a6c-48dc-b2ec-7a65bb7b7508",
   "metadata": {},
   "outputs": [
    {
     "data": {
      "image/png": "[encoded data removed]",
      "text/plain": [
       "<Figure size 359.271x144.48 with 1 Axes>"
      ]
     },
     "metadata": {},
     "output_type": "display_data"
    },
    {
     "name": "stdout",
     "output_type": "stream",
     "text": [
      "The result when the qubit is initialized in state  0  is: 1\n"
     ]
    },
    {
     "data": {
      "image/png": "[encoded data removed]",
      "text/plain": [
       "<Figure size 419.471x144.48 with 1 Axes>"
      ]
     },
     "metadata": {},
     "output_type": "display_data"
    },
    {
     "name": "stdout",
     "output_type": "stream",
     "text": [
      "The result when the qubit is initialized in state  1  is: 0\n"
     ]
    }
   ],
   "source": [
    "# NOT operation using the simulator\n",
    "\n",
    "simulator = QasmSimulator()\n",
    "\n",
    "\n",
    "for i in ['0','1']:\n",
    "    # Prepare circuit\n",
    "    qreg = QuantumRegister(1, name = 'q_reg')\n",
    "    creg = ClassicalRegister(1, name = 'c_reg')\n",
    "    not_circ = QuantumCircuit(qreg,creg)\n",
    "    \n",
    "    # Initialize qubit state\n",
    "    if i == '1':\n",
    "        not_circ.x(0) \n",
    "    not_circ.barrier()\n",
    "    \n",
    "    # Apply NOT operation\n",
    "    not_circ.x(qreg[0]) # this is where you replace 'which'\n",
    "    not_circ.barrier()\n",
    "\n",
    "    # Measure\n",
    "    not_circ.measure(qreg[0],creg[0])\n",
    "    \n",
    "    display(not_circ.draw('mpl'))\n",
    "\n",
    "    job = simulator.run(not_circ, shots=1000)\n",
    "\n",
    "    # Grab results from the job\n",
    "    result = job.result()\n",
    "\n",
    "    # Returns counts\n",
    "    counts = result.get_counts(not_circ)\n",
    "\n",
    "    print('The result when the qubit is initialized in state ', i,' is:', max(counts))\n"
   ]
  },
  {
   "cell_type": "markdown",
   "id": "dea6e6ae-f7a5-4063-97af-97122dbde89b",
   "metadata": {},
   "source": [
    "![](XOR_gate.png)"
   ]
  },
  {
   "cell_type": "markdown",
   "id": "57413013-6fcd-4fd1-9b6c-c26589c1aa30",
   "metadata": {},
   "source": [
    "![](AND_gate.png)"
   ]
  },
  {
   "cell_type": "markdown",
   "id": "9126462f-ca77-4a59-8b04-d2d0f6405cbd",
   "metadata": {},
   "source": [
    "![](Bell_state_circ.png)"
   ]
  },
  {
   "cell_type": "markdown",
   "id": "ab12ceb4-d9bc-4b0a-9f4e-84ac85337248",
   "metadata": {},
   "source": [
    "![](GHZ_state_circ.png)"
   ]
  },
  {
   "cell_type": "markdown",
   "id": "fe324b94-75b6-4098-80a5-a588a6148eb4",
   "metadata": {},
   "source": [
    "![](qiskit_logo_circ.png)"
   ]
  },
  {
   "cell_type": "code",
   "execution_count": null,
   "id": "b9bae350-af71-46cd-acbd-3ac7797f63bf",
   "metadata": {},
   "outputs": [],
   "source": []
  }
 ],
 "metadata": {
  "kernelspec": {
   "display_name": "Qiskit v0.34.2 (ipykernel)",
   "language": "python",
   "name": "python3"
  },
  "language_info": {
   "codemirror_mode": {
    "name": "ipython",
    "version": 3
   },
   "file_extension": ".py",
   "mimetype": "text/x-python",
   "name": "python",
   "nbconvert_exporter": "python",
   "pygments_lexer": "ipython3",
   "version": "3.8.12"
  },
  "widgets": {
   "application/vnd.jupyter.widget-state+json": {
    "state": {
     "01294b71d9174ead9f1f7225cfb49e6b": {
      "model_module": "@jupyter-widgets/controls",
      "model_module_version": "1.5.0",
      "model_name": "ButtonStyleModel",
      "state": {
       "button_color": "white"
      }
     },
     "0318f04b41f74aedbd0a956bea5217fc": {
      "model_module": "@jupyter-widgets/controls",
      "model_module_version": "1.5.0",
      "model_name": "DescriptionStyleModel",
      "state": {
       "description_width": ""
      }
     },
     "0a667325d7ed4208b93bd611e7828675": {
      "model_module": "@jupyter-widgets/base",
      "model_module_version": "1.2.0",
      "model_name": "LayoutModel",
      "state": {}
     },
     "12b2abeb9ee544659bedc6a99cd8783c": {
      "model_module": "@jupyter-widgets/controls",
      "model_module_version": "1.5.0",
      "model_name": "ButtonModel",
      "state": {
       "icon": "close",
       "layout": "IPY_MODEL_687af63b2f83426589bb4fbb3e977882",
       "style": "IPY_MODEL_01294b71d9174ead9f1f7225cfb49e6b"
      }
     },
     "1319141bfa5647f39ef69790e27d5c61": {
      "model_module": "@jupyter-widgets/controls",
      "model_module_version": "1.5.0",
      "model_name": "DescriptionStyleModel",
      "state": {
       "description_width": ""
      }
     },
     "13e8b2992ef74225b564e7958a5915a1": {
      "model_module": "@jupyter-widgets/base",
      "model_module_version": "1.2.0",
      "model_name": "LayoutModel",
      "state": {
       "width": "70px"
      }
     },
     "16b224789caf429580363621cb6b5522": {
      "model_module": "@jupyter-widgets/controls",
      "model_module_version": "1.5.0",
      "model_name": "ButtonStyleModel",
      "state": {}
     },
     "16bd95d8c2804bffb65d339a68d2a6a1": {
      "model_module": "@jupyter-widgets/controls",
      "model_module_version": "1.5.0",
      "model_name": "HTMLModel",
      "state": {
       "layout": "IPY_MODEL_9fa3f38d164d48f5aa1a67cd4559c8f9",
       "style": "IPY_MODEL_a6c98cb431594be3b649a61e7fbb427e",
       "value": "62121815ffea1361271bd853"
      }
     },
     "1f47bf3381884839bc90270cf86b9d2f": {
      "model_module": "@jupyter-widgets/controls",
      "model_module_version": "1.5.0",
      "model_name": "HTMLModel",
      "state": {
       "layout": "IPY_MODEL_efe4eba602654f86a54d91fbc6848eb6",
       "style": "IPY_MODEL_9d12df0fae234abca9f8911116af681f",
       "value": "<h5>Backend</h5>"
      }
     },
     "20640e3256d44560b30acf2163491211": {
      "model_module": "@jupyter-widgets/controls",
      "model_module_version": "1.5.0",
      "model_name": "HTMLModel",
      "state": {
       "layout": "IPY_MODEL_bd0f1374f9a248728bed4b035a437e68",
       "style": "IPY_MODEL_658ff9e4838e49c097e5f6eb06c3b18d",
       "value": "<p style='font-family: IBM Plex Sans, Arial, Helvetica, sans-serif; font-size: 20px; font-weight: medium;'>Circuit Properties</p>"
      }
     },
     "323b504724fd4dfdbd6031573c85bf1a": {
      "model_module": "@jupyter-widgets/base",
      "model_module_version": "1.2.0",
      "model_name": "LayoutModel",
      "state": {
       "grid_template_areas": "\n                                       \". . . . right \"\n                                        ",
       "grid_template_columns": "20% 20% 20% 20% 20%",
       "width": "100%"
      }
     },
     "3b76632676b348cca2900af708442d86": {
      "model_module": "@jupyter-widgets/base",
      "model_module_version": "1.2.0",
      "model_name": "LayoutModel",
      "state": {
       "max_width": "700px",
       "min_width": "700px"
      }
     },
     "40b1dd760e074672b43577c8083425c8": {
      "model_module": "@jupyter-widgets/controls",
      "model_module_version": "1.5.0",
      "model_name": "HBoxModel",
      "state": {
       "children": [
        "IPY_MODEL_12b2abeb9ee544659bedc6a99cd8783c",
        "IPY_MODEL_16bd95d8c2804bffb65d339a68d2a6a1",
        "IPY_MODEL_6a8657702e4842f5a960e50c0d43b76a",
        "IPY_MODEL_ebd510c0876649599a7c7cd9aab73e8e",
        "IPY_MODEL_c4030c3992d4475fb53647ba5029f748",
        "IPY_MODEL_f53c20f5f3a24e029ec56d35d8093174"
       ],
       "layout": "IPY_MODEL_3b76632676b348cca2900af708442d86"
      }
     },
     "4431b569ce3d48c9a91066df9c788bf7": {
      "model_module": "@jupyter-widgets/controls",
      "model_module_version": "1.5.0",
      "model_name": "HTMLModel",
      "state": {
       "layout": "IPY_MODEL_0a667325d7ed4208b93bd611e7828675",
       "style": "IPY_MODEL_ccdda6a5ebbc41698b78c8aad7214e84",
       "value": "<h5>Message</h5>"
      }
     },
     "5e1eff0eb68f4ec6a5e8953a6529eca0": {
      "model_module": "@jupyter-widgets/base",
      "model_module_version": "1.2.0",
      "model_name": "LayoutModel",
      "state": {
       "width": "145px"
      }
     },
     "5eb868b2e7a746c2ba3a0bb7ac676757": {
      "model_module": "@jupyter-widgets/controls",
      "model_module_version": "1.5.0",
      "model_name": "HTMLModel",
      "state": {
       "layout": "IPY_MODEL_82d9e128de3040e1ade8e71343256ea1",
       "style": "IPY_MODEL_6a48b0431afd40b48a0745b2515d20a6",
       "value": "<h5>Queue</h5>"
      }
     },
     "645fcc024fcf487482eb88a08b49d06f": {
      "model_module": "@jupyter-widgets/base",
      "model_module_version": "1.2.0",
      "model_name": "LayoutModel",
      "state": {
       "width": "95px"
      }
     },
     "658ff9e4838e49c097e5f6eb06c3b18d": {
      "model_module": "@jupyter-widgets/controls",
      "model_module_version": "1.5.0",
      "model_name": "DescriptionStyleModel",
      "state": {
       "description_width": ""
      }
     },
     "687af63b2f83426589bb4fbb3e977882": {
      "model_module": "@jupyter-widgets/base",
      "model_module_version": "1.2.0",
      "model_name": "LayoutModel",
      "state": {
       "margin": "0px 5px 0px 0px",
       "width": "32px"
      }
     },
     "6a48b0431afd40b48a0745b2515d20a6": {
      "model_module": "@jupyter-widgets/controls",
      "model_module_version": "1.5.0",
      "model_name": "DescriptionStyleModel",
      "state": {
       "description_width": ""
      }
     },
     "6a8657702e4842f5a960e50c0d43b76a": {
      "model_module": "@jupyter-widgets/controls",
      "model_module_version": "1.5.0",
      "model_name": "HTMLModel",
      "state": {
       "layout": "IPY_MODEL_5e1eff0eb68f4ec6a5e8953a6529eca0",
       "style": "IPY_MODEL_ddac211474d7481a9a65dd6034993a0c",
       "value": "ibmq_montreal"
      }
     },
     "82d9e128de3040e1ade8e71343256ea1": {
      "model_module": "@jupyter-widgets/base",
      "model_module_version": "1.2.0",
      "model_name": "LayoutModel",
      "state": {
       "width": "70px"
      }
     },
     "87083b309c1c4c7ead61847f477b58d3": {
      "model_module": "@jupyter-widgets/base",
      "model_module_version": "1.2.0",
      "model_name": "LayoutModel",
      "state": {
       "width": "95px"
      }
     },
     "88a4a0f091104a2c88de90058cccd83c": {
      "model_module": "@jupyter-widgets/controls",
      "model_module_version": "1.5.0",
      "model_name": "DescriptionStyleModel",
      "state": {
       "description_width": ""
      }
     },
     "8cf1d71811a0400b8a4a1840e854651b": {
      "model_module": "@jupyter-widgets/controls",
      "model_module_version": "1.5.0",
      "model_name": "HTMLModel",
      "state": {
       "layout": "IPY_MODEL_b252f46098fa4fc1865cc0c4df1cfa6f",
       "style": "IPY_MODEL_1319141bfa5647f39ef69790e27d5c61",
       "value": "<h5>Job ID</h5>"
      }
     },
     "9d12df0fae234abca9f8911116af681f": {
      "model_module": "@jupyter-widgets/controls",
      "model_module_version": "1.5.0",
      "model_name": "DescriptionStyleModel",
      "state": {
       "description_width": ""
      }
     },
     "9fa3f38d164d48f5aa1a67cd4559c8f9": {
      "model_module": "@jupyter-widgets/base",
      "model_module_version": "1.2.0",
      "model_name": "LayoutModel",
      "state": {
       "width": "190px"
      }
     },
     "a48a47a55f224f0fbc47d16915fb2380": {
      "model_module": "@jupyter-widgets/controls",
      "model_module_version": "1.5.0",
      "model_name": "HTMLModel",
      "state": {
       "layout": "IPY_MODEL_87083b309c1c4c7ead61847f477b58d3",
       "style": "IPY_MODEL_88a4a0f091104a2c88de90058cccd83c",
       "value": "<h5>Status</h5>"
      }
     },
     "a6c98cb431594be3b649a61e7fbb427e": {
      "model_module": "@jupyter-widgets/controls",
      "model_module_version": "1.5.0",
      "model_name": "DescriptionStyleModel",
      "state": {
       "description_width": ""
      }
     },
     "aadc46dd5a94475d97efd41017b3112f": {
      "model_module": "@jupyter-widgets/controls",
      "model_module_version": "1.5.0",
      "model_name": "HBoxModel",
      "state": {
       "children": [
        "IPY_MODEL_8cf1d71811a0400b8a4a1840e854651b",
        "IPY_MODEL_1f47bf3381884839bc90270cf86b9d2f",
        "IPY_MODEL_a48a47a55f224f0fbc47d16915fb2380",
        "IPY_MODEL_5eb868b2e7a746c2ba3a0bb7ac676757",
        "IPY_MODEL_4431b569ce3d48c9a91066df9c788bf7"
       ],
       "layout": "IPY_MODEL_ca018a05838f4440ab73cf51599a38d2"
      }
     },
     "b252f46098fa4fc1865cc0c4df1cfa6f": {
      "model_module": "@jupyter-widgets/base",
      "model_module_version": "1.2.0",
      "model_name": "LayoutModel",
      "state": {
       "width": "190px"
      }
     },
     "b772bf3c4c3743018dff017649b1bea7": {
      "model_module": "@jupyter-widgets/controls",
      "model_module_version": "1.5.0",
      "model_name": "DescriptionStyleModel",
      "state": {
       "description_width": ""
      }
     },
     "bd0f1374f9a248728bed4b035a437e68": {
      "model_module": "@jupyter-widgets/base",
      "model_module_version": "1.2.0",
      "model_name": "LayoutModel",
      "state": {
       "margin": "0px 0px 10px 0px"
      }
     },
     "c0e16bd7a2634d02ab58aead13b5c572": {
      "model_module": "@jupyter-widgets/controls",
      "model_module_version": "1.5.0",
      "model_name": "GridBoxModel",
      "state": {
       "children": [
        "IPY_MODEL_d9d8bb1da2144788a9da62b1b83cea2f"
       ],
       "layout": "IPY_MODEL_323b504724fd4dfdbd6031573c85bf1a"
      }
     },
     "c4030c3992d4475fb53647ba5029f748": {
      "model_module": "@jupyter-widgets/controls",
      "model_module_version": "1.5.0",
      "model_name": "HTMLModel",
      "state": {
       "layout": "IPY_MODEL_13e8b2992ef74225b564e7958a5915a1",
       "style": "IPY_MODEL_0318f04b41f74aedbd0a956bea5217fc",
       "value": "-"
      }
     },
     "c75b93e72a98423ab599b49513ea1d94": {
      "model_module": "@jupyter-widgets/base",
      "model_module_version": "1.2.0",
      "model_name": "LayoutModel",
      "state": {
       "overflow_x": "scroll"
      }
     },
     "ca018a05838f4440ab73cf51599a38d2": {
      "model_module": "@jupyter-widgets/base",
      "model_module_version": "1.2.0",
      "model_name": "LayoutModel",
      "state": {
       "margin": "0px 0px 0px 37px",
       "width": "600px"
      }
     },
     "cbccf38857c94c79b6682475a2c40261": {
      "model_module": "@jupyter-widgets/controls",
      "model_module_version": "1.5.0",
      "model_name": "DescriptionStyleModel",
      "state": {
       "description_width": ""
      }
     },
     "ccdda6a5ebbc41698b78c8aad7214e84": {
      "model_module": "@jupyter-widgets/controls",
      "model_module_version": "1.5.0",
      "model_name": "DescriptionStyleModel",
      "state": {
       "description_width": ""
      }
     },
     "d538dff8c4a74dcbbd4bfdec89997a70": {
      "model_module": "@jupyter-widgets/base",
      "model_module_version": "1.2.0",
      "model_name": "LayoutModel",
      "state": {
       "grid_area": "right",
       "padding": "0px 0px 0px 0px",
       "width": "70px"
      }
     },
     "d9d8bb1da2144788a9da62b1b83cea2f": {
      "model_module": "@jupyter-widgets/controls",
      "model_module_version": "1.5.0",
      "model_name": "ButtonModel",
      "state": {
       "button_style": "primary",
       "description": "Clear",
       "layout": "IPY_MODEL_d538dff8c4a74dcbbd4bfdec89997a70",
       "style": "IPY_MODEL_16b224789caf429580363621cb6b5522"
      }
     },
     "ddac211474d7481a9a65dd6034993a0c": {
      "model_module": "@jupyter-widgets/controls",
      "model_module_version": "1.5.0",
      "model_name": "DescriptionStyleModel",
      "state": {
       "description_width": ""
      }
     },
     "ebd510c0876649599a7c7cd9aab73e8e": {
      "model_module": "@jupyter-widgets/controls",
      "model_module_version": "1.5.0",
      "model_name": "HTMLModel",
      "state": {
       "layout": "IPY_MODEL_645fcc024fcf487482eb88a08b49d06f",
       "style": "IPY_MODEL_b772bf3c4c3743018dff017649b1bea7",
       "value": "<font style='color:#34BC6E'>DONE</font>"
      }
     },
     "efe4eba602654f86a54d91fbc6848eb6": {
      "model_module": "@jupyter-widgets/base",
      "model_module_version": "1.2.0",
      "model_name": "LayoutModel",
      "state": {
       "width": "145px"
      }
     },
     "f53c20f5f3a24e029ec56d35d8093174": {
      "model_module": "@jupyter-widgets/controls",
      "model_module_version": "1.5.0",
      "model_name": "HTMLModel",
      "state": {
       "layout": "IPY_MODEL_c75b93e72a98423ab599b49513ea1d94",
       "style": "IPY_MODEL_cbccf38857c94c79b6682475a2c40261",
       "value": "job has successfully run"
      }
     }
    },
    "version_major": 2,
    "version_minor": 0
   }
  }
 },
 "nbformat": 4,
 "nbformat_minor": 5
}
